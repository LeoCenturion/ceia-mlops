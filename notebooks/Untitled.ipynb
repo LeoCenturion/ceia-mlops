{
 "cells": [
  {
   "cell_type": "code",
   "execution_count": 1,
   "id": "1c94ab96-aad2-4b04-9e0d-358f2763a7ec",
   "metadata": {},
   "outputs": [
    {
     "name": "stdout",
     "output_type": "stream",
     "text": [
      "env: AWS_ACCESS_KEY_ID=minio\n",
      "env: AWS_SECRET_ACCESS_KEY=minio123\n",
      "env: MLFLOW_S3_ENDPOINT_URL=http://localhost:9000\n"
     ]
    }
   ],
   "source": [
    "# Para que funciones, todos nuestros scripts debemos exportar las siguientes variables de entorno\n",
    "%env AWS_ACCESS_KEY_ID=minio   \n",
    "%env AWS_SECRET_ACCESS_KEY=minio123 \n",
    "%env MLFLOW_S3_ENDPOINT_URL=http://localhost:9000"
   ]
  },
  {
   "cell_type": "code",
   "execution_count": 3,
   "id": "243727d8-1e5c-49a8-96bc-5ffb24df9066",
   "metadata": {},
   "outputs": [
    {
     "name": "stderr",
     "output_type": "stream",
     "text": [
      "2025/04/05 13:11:25 INFO mlflow.bedrock: Enabled auto-tracing for Bedrock. Note that MLflow can only trace boto3 service clients that are created after this call. If you have already created one, please recreate the client by calling `boto3.client`.\n",
      "2025/04/05 13:11:25 INFO mlflow.tracking.fluent: Autologging successfully enabled for boto3.\n",
      "2025/04/05 13:11:25 INFO mlflow.tracking.fluent: Autologging successfully enabled for sklearn.\n",
      "2025/04/05 13:11:25 INFO mlflow.utils.autologging_utils: Created MLflow autologging run with ID 'f15036a9f0864372aeb1e9b1011c00f5', which will track hyperparameters, performance metrics, model artifacts, and lineage information for the current sklearn workflow\n"
     ]
    },
    {
     "name": "stdout",
     "output_type": "stream",
     "text": [
      "🏃 View run wise-moose-795 at: http://localhost:5001/#/experiments/1/runs/f15036a9f0864372aeb1e9b1011c00f5\n",
      "🧪 View experiment at: http://localhost:5001/#/experiments/1\n"
     ]
    }
   ],
   "source": [
    "import mlflow\n",
    "from sklearn.model_selection import train_test_split\n",
    "from sklearn.datasets import load_diabetes\n",
    "from sklearn.ensemble import RandomForestRegressor\n",
    "\n",
    "mlflow.set_tracking_uri('http://localhost:5001') \n",
    "\n",
    "# set the experiment id\n",
    "experiment_name = \"busquedaHiperParamWAPredict\"\n",
    "mlflow.set_experiment(experiment_name)\n",
    "\"\"\"\n",
    "Codigo para mirar con Leo y Brian\n",
    "#creo el experimento\n",
    "experiment_name = \"\"busquedaHiperParamWAPredict\"\"\n",
    "if not mlflow.get_experiment_by_name(experiment_name):\n",
    "    mlflow.create_experiment(name=experiment_name)\n",
    "experiment = mlflow.get_experiment_by_name(experiment_name)\n",
    "\"\"\"\n",
    "\n",
    "\n",
    "\n",
    "mlflow.autolog()\n",
    "db = load_diabetes()\n",
    "\n",
    "X_train, X_test, y_train, y_test = train_test_split(db.data, db.target)\n",
    "\n",
    "# Create and train models.\n",
    "rf = RandomForestRegressor(n_estimators=100, max_depth=6, max_features=3)\n",
    "rf.fit(X_train, y_train)\n",
    "\n",
    "# Use the model to make predictions on the test dataset.\n",
    "predictions = rf.predict(X_test)\n",
    "\n"
   ]
  },
  {
   "cell_type": "markdown",
   "source": [
    "Busqueda de hiperparametros"
   ],
   "metadata": {
    "collapsed": false
   }
  },
  {
   "cell_type": "code",
   "execution_count": null,
   "outputs": [],
   "source": [
    "\"\"\"\n",
    "Se deja el codigo debajo a modo de plantilla, se debe actualizar con informacion especifica del modelo utilizado en el Tf Aprendiza Maquina  1\n",
    "\"\"\"\n",
    "model_wapredict = RandomForestClassifier() # cambiar a xgboost\n",
    "\n",
    "# Definimos los hiperparámetros para la búsqueda\n",
    "grid = {\n",
    "    'max_depth':[6,8,10],\n",
    "    'min_samples_split':[2,3,4,5],\n",
    "    'min_samples_leaf':[2,3,4,5],\n",
    "    'max_features': [2,3]\n",
    "    }\n",
    "\n",
    "# Hacemos la búsqueda\n",
    "wapredict_grid = GridSearchCV(model, grid, cv=5)\n",
    "wapredict_results = wapredict.fit(X_train, y_train)\n",
    "\n",
    "print(f'Los mejores parámetros son: {wapredict.best_params_}')"
   ],
   "metadata": {
    "collapsed": false,
    "pycharm": {
     "name": "#%%\n"
    }
   }
  },
  {
   "cell_type": "code",
   "execution_count": null,
   "outputs": [],
   "source": [
    "with mlflow.start_run(experiment_id = experiment.experiment_id):\n",
    "    # Se registran los mejores hiperparámetros\n",
    "    mlflow.log_params(wapredict_results.best_params_)\n",
    "\n",
    "    # Se obtiene las predicciones del dataset de evaluación\n",
    "    y_pred = wapredict_results.predict(X_test)\n",
    "\n",
    "    # Se calculan las métricas\n",
    "    accuracy = accuracy_score(y_test, y_pred)\n",
    "    precision = precision_score(y_test, y_pred, average='weighted')\n",
    "    recall = recall_score(y_test, y_pred, average='weighted')\n",
    "    print(f'Accuracy: {accuracy}')\n",
    "    print(f'Precision: {precision}')\n",
    "    print(f'Recall: {recall}')\n",
    "\n",
    "    # Y las enviamos a MLFlow\n",
    "    metrics ={\n",
    "        'accuracy': accuracy,\n",
    "        'precision': precision,\n",
    "        'recall': recall\n",
    "        }\n",
    "    mlflow.log_metrics(metrics)"
   ],
   "metadata": {
    "collapsed": false,
    "pycharm": {
     "name": "#%%\n"
    }
   }
  },
  {
   "cell_type": "code",
   "execution_count": null,
   "id": "fc5f3372-cc3f-480f-a31e-203b6a234835",
   "metadata": {},
   "outputs": [],
   "source": []
  }
 ],
 "metadata": {
  "kernelspec": {
   "display_name": "Python 3 (ipykernel)",
   "language": "python",
   "name": "python3"
  },
  "language_info": {
   "codemirror_mode": {
    "name": "ipython",
    "version": 3
   },
   "file_extension": ".py",
   "mimetype": "text/x-python",
   "name": "python",
   "nbconvert_exporter": "python",
   "pygments_lexer": "ipython3",
   "version": "3.13.2"
  }
 },
 "nbformat": 4,
 "nbformat_minor": 5
}